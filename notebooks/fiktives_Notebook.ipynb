{
 "cells": [
  {
   "cell_type": "markdown",
   "id": "879b0e88",
   "metadata": {},
   "source": [
    "\n",
    "# Fiktives Datenaugmentierungs-Toolkit\n",
    "\n",
    "Dieses Projekt ist ein vollständig erfundenes Beispiel, das zeigt, wie man ein Datenaugmentierungs-Toolkit für **fiktive Weltraum-Sensordaten** aufbauen könnte.  \n",
    "Es orientiert sich in der **Struktur** am Projekt *hiwistanzen*, verwendet jedoch komplett neue Inhalte und Code.\n",
    "\n",
    "---\n",
    "\n",
    "## Projektübersicht\n",
    "\n",
    "- **Ziel:** Demonstration von Signalverarbeitungs- und Trainingspipelines an ausgedachten Daten.\n",
    "- **Datenquelle:** Simulierte Sensoren an Bord eines imaginären Mars-Forschungsroboters.\n",
    "- **Anwendungsfall:** Klassifizierung von Signalsequenzen, um Betriebszustände zu erkennen.\n"
   ]
  },
  {
   "cell_type": "markdown",
   "id": "433c7317",
   "metadata": {},
   "source": [
    "\n",
    "## Datensatzstruktur\n",
    "\n",
    "Die Daten bestehen aus **Zeitreihen** (einfache Arrays), gespeichert in `.npy`-Dateien.  \n",
    "Jede Datei enthält:\n",
    "1. Eine fiktive Signalspur (`signal`).\n",
    "2. Ein Label (`state`), das den Betriebszustand angibt.\n",
    "\n",
    "**Beispielhafte Dateistruktur:**\n",
    "\n",
    "```\n",
    "data/\n",
    " ├── train/\n",
    " │    ├── sample_0001.npy\n",
    " │    ├── sample_0002.npy\n",
    " │    └── ...\n",
    " ├── val/\n",
    " │    ├── sample_1001.npy\n",
    " │    └── ...\n",
    " └── test/\n",
    "      ├── sample_2001.npy\n",
    "      └── ...\n",
    "```\n"
   ]
  },
  {
   "cell_type": "code",
   "execution_count": null,
   "id": "9cfb586d",
   "metadata": {},
   "outputs": [],
   "source": [
    "\n",
    "import numpy as np\n",
    "import matplotlib.pyplot as plt\n",
    "from pathlib import Path\n",
    "\n",
    "# Fiktive Beispieldaten erzeugen\n",
    "Path(\"data/train\").mkdir(parents=True, exist_ok=True)\n",
    "\n",
    "for i in range(5):\n",
    "    signal = np.sin(np.linspace(0, 10, 100)) + np.random.normal(0, 0.1, 100)\n",
    "    label = np.random.choice([\"OK\", \"WARNUNG\", \"ALARM\"])\n",
    "    np.save(f\"data/train/sample_{i:04d}.npy\", {\"signal\": signal, \"label\": label})\n",
    "\n",
    "# Beispiel laden\n",
    "example = np.load(\"data/train/sample_0000.npy\", allow_pickle=True).item()\n",
    "plt.plot(example[\"signal\"])\n",
    "plt.title(f\"Beispielsignal – Label: {example['label']}\")\n",
    "plt.show()\n"
   ]
  },
  {
   "cell_type": "markdown",
   "id": "3a341019",
   "metadata": {},
   "source": [
    "\n",
    "## Experimentelles Setup\n",
    "\n",
    "Wir teilen die Daten in **Training**, **Validierung** und **Test** auf.  \n",
    "Ziel ist es, ein einfaches neuronales Netz zu trainieren, das anhand der Signalform den Zustand vorhersagt.\n",
    "\n",
    "**Split:**  \n",
    "- Train: 70 %  \n",
    "- Val: 15 %  \n",
    "- Test: 15 %\n"
   ]
  },
  {
   "cell_type": "markdown",
   "id": "07341607",
   "metadata": {},
   "source": [
    "\n",
    "## Modellarchitektur\n",
    "\n",
    "Das Modell ist ein kleines **1D-CNN** mit:\n",
    "- 2 Faltungsschichten\n",
    "- 1 Dense-Schicht für die Klassifikation\n"
   ]
  },
  {
   "cell_type": "code",
   "execution_count": null,
   "id": "0a8a56ab",
   "metadata": {},
   "outputs": [],
   "source": [
    "\n",
    "import torch\n",
    "import torch.nn as nn\n",
    "import torch.nn.functional as F\n",
    "\n",
    "class Simple1DCNN(nn.Module):\n",
    "    def __init__(self):\n",
    "        super().__init__()\n",
    "        self.conv1 = nn.Conv1d(1, 8, kernel_size=3, padding=1)\n",
    "        self.conv2 = nn.Conv1d(8, 16, kernel_size=3, padding=1)\n",
    "        self.fc = nn.Linear(16*100, 3)  # 3 Klassen\n",
    "        \n",
    "    def forward(self, x):\n",
    "        x = F.relu(self.conv1(x))\n",
    "        x = F.relu(self.conv2(x))\n",
    "        x = x.view(x.size(0), -1)\n",
    "        return self.fc(x)\n",
    "\n",
    "model = Simple1DCNN()\n",
    "print(model)\n"
   ]
  },
  {
   "cell_type": "markdown",
   "id": "9cdf2f0d",
   "metadata": {},
   "source": [
    "\n",
    "## Training & Evaluation\n",
    "\n",
    "Wir verwenden hier nur ein Mini-Beispiel-Training mit fiktiven Daten.\n"
   ]
  },
  {
   "cell_type": "code",
   "execution_count": null,
   "id": "a9475a25",
   "metadata": {},
   "outputs": [],
   "source": [
    "\n",
    "# Dummy-Training\n",
    "optimizer = torch.optim.Adam(model.parameters(), lr=0.001)\n",
    "criterion = nn.CrossEntropyLoss()\n",
    "\n",
    "# Fiktive Eingabe & Labels\n",
    "inputs = torch.randn(10, 1, 100)  # 10 Signale, Länge 100\n",
    "labels = torch.randint(0, 3, (10,))\n",
    "\n",
    "for epoch in range(3):\n",
    "    optimizer.zero_grad()\n",
    "    outputs = model(inputs)\n",
    "    loss = criterion(outputs, labels)\n",
    "    loss.backward()\n",
    "    optimizer.step()\n",
    "    print(f\"Epoche {epoch+1}, Verlust: {loss.item():.4f}\")\n"
   ]
  },
  {
   "cell_type": "markdown",
   "id": "cd8e16e9",
   "metadata": {},
   "source": [
    "\n",
    "## Ergebnisse\n",
    "\n",
    "In einem echten Experiment würden wir hier:\n",
    "- Trainings- und Validierungsverluste über Epochen plotten.\n",
    "- Konfusionsmatrizen zeigen.\n",
    "- Beispielvorhersagen darstellen.\n",
    "\n",
    "Da unser Beispiel rein fiktiv ist, dienen die obigen Ausgaben nur zur Illustration.\n"
   ]
  },
  {
   "cell_type": "markdown",
   "id": "d0247a39",
   "metadata": {},
   "source": [
    "\n",
    "## Fazit\n",
    "\n",
    "- Die Struktur dieses Notebooks ist an reale Machine-Learning-Projekte angelehnt.\n",
    "- Alle Daten, Signale und Ergebnisse sind vollständig erfunden.\n",
    "- Ziel: Demonstrieren, wie man ein strukturiertes GitHub-Notebook aufbauen kann.\n",
    "\n",
    "---\n"
   ]
  }
 ],
 "metadata": {},
 "nbformat": 4,
 "nbformat_minor": 5
}
